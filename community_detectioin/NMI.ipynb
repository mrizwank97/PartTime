{
 "cells": [
  {
   "cell_type": "code",
   "execution_count": 13,
   "metadata": {},
   "outputs": [],
   "source": [
    "%matplotlib inline\n",
    "import math\n",
    "import numpy as np\n",
    "import networkx as nx\n",
    "import matplotlib.pyplot as plt\n",
    "from scipy.spatial import distance \n",
    "from collections import defaultdict\n",
    "from scipy.cluster import hierarchy\n",
    "from sklearn.metrics.cluster import normalized_mutual_info_score as nmi"
   ]
  },
  {
   "cell_type": "code",
   "execution_count": 14,
   "metadata": {},
   "outputs": [],
   "source": [
    "_SQRT2 = np.sqrt(2) \n",
    "def hellinger3(p, q):\n",
    "    return np.sqrt(np.sum((np.sqrt(p) - np.sqrt(q)) ** 2)) / _SQRT2"
   ]
  },
  {
   "cell_type": "code",
   "execution_count": 15,
   "metadata": {},
   "outputs": [
    {
     "name": "stdout",
     "output_type": "stream",
     "text": [
      "0.6431277083872979\n",
      "0.7042495926227985\n",
      "0.7238225923804306\n",
      "0.769718423900839\n"
     ]
    }
   ],
   "source": [
    "for in range(1,5):\n",
    "    \n",
    "    K = nx.read_edgelist('nmi/dblp'+str(i)+'.txt',create_using=nx.Graph(),nodetype=int)\n",
    "    K.remove_nodes_from(list(nx.isolates(K)))\n",
    "    A = nx.convert_matrix.to_numpy_array(K)\n",
    "\n",
    "    for i in range(A.shape[0]):\n",
    "        for j in range(A.shape[1]):\n",
    "            if(i==j):\n",
    "                temp = 0\n",
    "                temp1 = 0\n",
    "                for k in range(j): \n",
    "                    temp += A[k][j]\n",
    "                for k in range(j+1,34):\n",
    "                    temp1 += A[k][j]\n",
    "                A[i][j] = temp+temp1\n",
    "\n",
    "    pij = np.copy(A)\n",
    "    I = np.copy(A)\n",
    "    total = np.sum(A)\n",
    "\n",
    "    for i in range(A.shape[0]):\n",
    "        for j in range(A.shape[1]):\n",
    "            pij[i][j] = A[i][j] / total        \n",
    "\n",
    "    pi = np.sum(pij,axis=0)\n",
    "    pj = np.sum(pij,axis=1)\n",
    "\n",
    "    a = 0\n",
    "    b = 0\n",
    "\n",
    "    for i in range(A.shape[0]):\n",
    "        for j in range(i+1, A.shape[0]):\n",
    "            for k in range(A.shape[0]):\n",
    "                pki = pij[k][i]/pi[i] \n",
    "                pkj = pij[k][j]/pj[i]\n",
    "                pkij = (pij[k][i]+pij[k][j])/(pi[i]+pj[j])\n",
    "                if(pki > 0):\n",
    "                    a = a + pki * (math.log(pki) - math.log(pkij))\n",
    "                else:\n",
    "                    continue\n",
    "                if(pkj > 0):\n",
    "                    b = b + pkj * (math.log(pkj) - math.log(pkij))\n",
    "                else:\n",
    "                    continue\n",
    "            I[i][j] = pi[i] * a + pj[j]*b\n",
    "    \n",
    "    labels=K.nodes()\n",
    "    Z = hierarchy.average(I)\n",
    "    membership=list(hierarchy.fcluster(Z,t=1.15))\n",
    "    partition = defaultdict(list)\n",
    "    for n,p in zip(list(range(len(K))),membership):\n",
    "        if(p in partition):\n",
    "            partition[p].append(labels[n])\n",
    "    partitions = {}\n",
    "    for i in range(len(membership)):\n",
    "        partitions[i]=membership[i]\n",
    "    \n",
    "    K = nx.read_edgelist('nmi/dblp'+str(i)+'.txt',create_using=nx.Graph(),nodetype=int)\n",
    "    K.remove_nodes_from(list(nx.isolates(K)))\n",
    "    \n",
    "    labels=K.nodes()\n",
    "    path_length=dict(nx.all_pairs_shortest_path_length(K))\n",
    "    n = len(K)\n",
    "    distances=np.zeros((n,n))   \n",
    "    for u,p in path_length.items():\n",
    "        for v,d in p.items():\n",
    "            if((u < n and u in K.nodes()) and (v  < n and v in K.nodes())):\n",
    "                distances[u][v] = d\n",
    "                distances[v][u] = d\n",
    "                if u==v: distances[u][u]=0\n",
    "    Y = distance.pdist(distances,hellinger3)\n",
    "    Z = hierarchy.average(Y)\n",
    "    membership=list(hierarchy.fcluster(Z,t=1.15))\n",
    "    partition = defaultdict(list)\n",
    "    for n,p in zip(list(range(len(K))),membership):\n",
    "        if(p in partition):\n",
    "            partition[p].append(labels[n])\n",
    "    partitions1 = {}\n",
    "    for i in range(len(membership)):\n",
    "        partitions1[i]=membership[i]\n",
    "    nmi_list.append(nmi(list(partitions.values()),list(partitions1.values())))\n",
    "    print(nmi(list(partitions.values()),list(partitions1.values())))"
   ]
  },
  {
   "cell_type": "code",
   "execution_count": 18,
   "metadata": {},
   "outputs": [
    {
     "data": {
      "text/plain": [
       "Text(0.5,1,'NMI of Hellinger Distance and Closeness Similarity')"
      ]
     },
     "execution_count": 18,
     "metadata": {},
     "output_type": "execute_result"
    },
    {
     "data": {
      "image/png": "[encoded data removed]",
      "text/plain": [
       "<Figure size 432x288 with 1 Axes>"
      ]
     },
     "metadata": {},
     "output_type": "display_data"
    }
   ],
   "source": [
    "x = [500, 1000, 1500, 2000]\n",
    "plt.plot(x,nmi_list)\n",
    "plt.xlabel('Number of Edges from DBLP')\n",
    "plt.ylabel('Normalized Mutual Information(NMI)')\n",
    "plt.title('NMI of Hellinger Distance and Closeness Similarity')"
   ]
  },
  {
   "cell_type": "code",
   "execution_count": null,
   "metadata": {},
   "outputs": [],
   "source": []
  }
 ],
 "metadata": {
  "kernelspec": {
   "display_name": "Python 3",
   "language": "python",
   "name": "python3"
  },
  "language_info": {
   "codemirror_mode": {
    "name": "ipython",
    "version": 3
   },
   "file_extension": ".py",
   "mimetype": "text/x-python",
   "name": "python",
   "nbconvert_exporter": "python",
   "pygments_lexer": "ipython3",
   "version": "3.6.4"
  }
 },
 "nbformat": 4,
 "nbformat_minor": 2
}
